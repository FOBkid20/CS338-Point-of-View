{
  "nbformat": 4,
  "nbformat_minor": 0,
  "metadata": {
    "colab": {
      "name": "Train a GPT-2 Text-Generating Model w/ GPU",
      "provenance": [],
      "collapsed_sections": [],
      "toc_visible": true,
      "include_colab_link": true
    },
    "kernelspec": {
      "name": "python3",
      "display_name": "Python 3"
    },
    "accelerator": "GPU"
  },
  "cells": [
    {
      "cell_type": "markdown",
      "metadata": {
        "id": "view-in-github",
        "colab_type": "text"
      },
      "source": [
        "<a href=\"https://colab.research.google.com/github/FOBkid20/CS338-Point-of-View/blob/main/Peyton_Train_a_GPT_2_Text_Generating_Model_w_GPU.ipynb\" target=\"_parent\"><img src=\"https://colab.research.google.com/assets/colab-badge.svg\" alt=\"Open In Colab\"/></a>"
      ]
    },
    {
      "cell_type": "markdown",
      "metadata": {
        "id": "H7LoMj4GA4n_"
      },
      "source": [
        "#  Train a GPT-2 Text-Generating Model w/ GPU For Free \n",
        "\n",
        "by [Max Woolf](http://minimaxir.com)\n",
        "\n",
        "*Last updated: February 14th, 2021*\n",
        "\n",
        "Retrain an advanced text generating neural network on any text dataset **for free on a GPU using Collaboratory** using `gpt-2-simple`!\n",
        "\n",
        "For more about `gpt-2-simple`, you can visit [this GitHub repository](https://github.com/minimaxir/gpt-2-simple). You can also read my [blog post](https://minimaxir.com/2019/09/howto-gpt2/) for more information how to use this notebook!\n",
        "\n",
        "\n",
        "To get started:\n",
        "\n",
        "1. Copy this notebook to your Google Drive to keep it and save your changes. (File -> Save a Copy in Drive)\n",
        "2. Make sure you're running the notebook in Google Chrome.\n",
        "3. Run the cells below:\n"
      ]
    },
    {
      "cell_type": "code",
      "metadata": {
        "id": "KBkpRgBCBS2_",
        "colab": {
          "base_uri": "https://localhost:8080/"
        },
        "outputId": "1ff040b4-b509-410c-bf3e-89a4116c7048"
      },
      "source": [
        "%tensorflow_version 1.x\n",
        "!pip install -q gpt-2-simple\n",
        "import gpt_2_simple as gpt2\n",
        "from datetime import datetime\n",
        "from google.colab import files"
      ],
      "execution_count": 3,
      "outputs": [
        {
          "output_type": "stream",
          "text": [
            "TensorFlow 1.x selected.\n",
            "WARNING:tensorflow:\n",
            "The TensorFlow contrib module will not be included in TensorFlow 2.0.\n",
            "For more information, please see:\n",
            "  * https://github.com/tensorflow/community/blob/master/rfcs/20180907-contrib-sunset.md\n",
            "  * https://github.com/tensorflow/addons\n",
            "  * https://github.com/tensorflow/io (for I/O related ops)\n",
            "If you depend on functionality not listed there, please file an issue.\n",
            "\n"
          ],
          "name": "stdout"
        }
      ]
    },
    {
      "cell_type": "markdown",
      "metadata": {
        "id": "Bj2IJLHP3KwE"
      },
      "source": [
        "## GPU\n",
        "\n",
        "Colaboratory uses either a Nvidia T4 GPU or an Nvidia K80 GPU. The T4 is slightly faster than the old K80 for training GPT-2, and has more memory allowing you to train the larger GPT-2 models and generate more text.\n",
        "\n",
        "You can verify which GPU is active by running the cell below."
      ]
    },
    {
      "cell_type": "code",
      "metadata": {
        "id": "sUmTooTW3osf",
        "colab": {
          "base_uri": "https://localhost:8080/"
        },
        "outputId": "7b1ef305-8bdd-4a6f-e592-dc4848ef2b09"
      },
      "source": [
        "!nvidia-smi"
      ],
      "execution_count": 5,
      "outputs": [
        {
          "output_type": "stream",
          "text": [
            "Wed Feb 24 02:19:54 2021       \n",
            "+-----------------------------------------------------------------------------+\n",
            "| NVIDIA-SMI 460.39       Driver Version: 460.32.03    CUDA Version: 11.2     |\n",
            "|-------------------------------+----------------------+----------------------+\n",
            "| GPU  Name        Persistence-M| Bus-Id        Disp.A | Volatile Uncorr. ECC |\n",
            "| Fan  Temp  Perf  Pwr:Usage/Cap|         Memory-Usage | GPU-Util  Compute M. |\n",
            "|                               |                      |               MIG M. |\n",
            "|===============================+======================+======================|\n",
            "|   0  Tesla T4            Off  | 00000000:00:04.0 Off |                    0 |\n",
            "| N/A   72C    P8    12W /  70W |      0MiB / 15109MiB |      0%      Default |\n",
            "|                               |                      |                  N/A |\n",
            "+-------------------------------+----------------------+----------------------+\n",
            "                                                                               \n",
            "+-----------------------------------------------------------------------------+\n",
            "| Processes:                                                                  |\n",
            "|  GPU   GI   CI        PID   Type   Process name                  GPU Memory |\n",
            "|        ID   ID                                                   Usage      |\n",
            "|=============================================================================|\n",
            "|  No running processes found                                                 |\n",
            "+-----------------------------------------------------------------------------+\n"
          ],
          "name": "stdout"
        }
      ]
    },
    {
      "cell_type": "markdown",
      "metadata": {
        "id": "0wXB05bPDYxS"
      },
      "source": [
        "## Downloading GPT-2\n",
        "\n",
        "If you're retraining a model on new text, you need to download the GPT-2 model first. \n",
        "\n",
        "There are three released sizes of GPT-2:\n",
        "\n",
        "* `124M` (default): the \"small\" model, 500MB on disk.\n",
        "* `355M`: the \"medium\" model, 1.5GB on disk.\n",
        "* `774M`: the \"large\" model, cannot currently be finetuned with Colaboratory but can be used to generate text from the pretrained model (see later in Notebook)\n",
        "* `1558M`: the \"extra large\", true model. Will not work if a K80/P4 GPU is attached to the notebook. (like `774M`, it cannot be finetuned).\n",
        "\n",
        "Larger models have more knowledge, but take longer to finetune and longer to generate text. You can specify which base model to use by changing `model_name` in the cells below.\n",
        "\n",
        "The next cell downloads it from Google Cloud Storage and saves it in the Colaboratory VM at `/models/<model_name>`.\n",
        "\n",
        "This model isn't permanently saved in the Colaboratory VM; you'll have to redownload it if you want to retrain it at a later time."
      ]
    },
    {
      "cell_type": "code",
      "metadata": {
        "id": "P8wSlgXoDPCR",
        "colab": {
          "base_uri": "https://localhost:8080/"
        },
        "outputId": "946bdaac-3da4-4dc3-d311-c2f05b3dc939"
      },
      "source": [
        "gpt2.download_gpt2(model_name=\"124M\")"
      ],
      "execution_count": 6,
      "outputs": [
        {
          "output_type": "stream",
          "text": [
            "Fetching checkpoint: 1.05Mit [00:00, 359Mit/s]                                                      \n",
            "Fetching encoder.json: 1.05Mit [00:00, 4.52Mit/s]\n",
            "Fetching hparams.json: 1.05Mit [00:00, 719Mit/s]                                                    \n",
            "Fetching model.ckpt.data-00000-of-00001: 498Mit [00:09, 50.9Mit/s]\n",
            "Fetching model.ckpt.index: 1.05Mit [00:00, 327Mit/s]                                                \n",
            "Fetching model.ckpt.meta: 1.05Mit [00:00, 6.53Mit/s]\n",
            "Fetching vocab.bpe: 1.05Mit [00:00, 5.55Mit/s]\n"
          ],
          "name": "stderr"
        }
      ]
    },
    {
      "cell_type": "markdown",
      "metadata": {
        "id": "N8KXuKWzQSsN"
      },
      "source": [
        "## Mounting Google Drive\n",
        "\n",
        "The best way to get input text to-be-trained into the Colaboratory VM, and to get the trained model *out* of Colaboratory, is to route it through Google Drive *first*.\n",
        "\n",
        "Running this cell (which will only work in Colaboratory) will mount your personal Google Drive in the VM, which later cells can use to get data in/out. (it will ask for an auth code; that auth is not saved anywhere)"
      ]
    },
    {
      "cell_type": "code",
      "metadata": {
        "id": "puq4iC6vUAHc",
        "colab": {
          "base_uri": "https://localhost:8080/"
        },
        "outputId": "6372c5cd-b9eb-4d22-99dd-449eab06be6f"
      },
      "source": [
        "gpt2.mount_gdrive()"
      ],
      "execution_count": 7,
      "outputs": [
        {
          "output_type": "stream",
          "text": [
            "Drive already mounted at /content/drive; to attempt to forcibly remount, call drive.mount(\"/content/drive\", force_remount=True).\n"
          ],
          "name": "stdout"
        }
      ]
    },
    {
      "cell_type": "markdown",
      "metadata": {
        "id": "BT__brhBCvJu"
      },
      "source": [
        "## Uploading a Text File to be Trained to Colaboratory\n",
        "\n",
        "In the Colaboratory Notebook sidebar on the left of the screen, select *Files*. From there you can upload files:\n",
        "\n",
        "![alt text](https://i.imgur.com/TGcZT4h.png)\n",
        "\n",
        "Upload **any smaller text file**  (<10 MB) and update the file name in the cell below, then run the cell."
      ]
    },
    {
      "cell_type": "code",
      "metadata": {
        "id": "6OFnPCLADfll"
      },
      "source": [
        "file_name = \"friends_joy_cr.txt\""
      ],
      "execution_count": 8,
      "outputs": []
    },
    {
      "cell_type": "markdown",
      "metadata": {
        "id": "HeeSKtNWUedE"
      },
      "source": [
        "If your text file is larger than 10MB, it is recommended to upload that file to Google Drive first, then copy that file from Google Drive to the Colaboratory VM."
      ]
    },
    {
      "cell_type": "code",
      "metadata": {
        "id": "-Z6okFD8VKtS"
      },
      "source": [
        "gpt2.copy_file_from_gdrive(file_name)"
      ],
      "execution_count": 9,
      "outputs": []
    },
    {
      "cell_type": "markdown",
      "metadata": {
        "id": "LdpZQXknFNY3"
      },
      "source": [
        "## Finetune GPT-2\n",
        "\n",
        "The next cell will start the actual finetuning of GPT-2. It creates a persistent TensorFlow session which stores the training config, then runs the training for the specified number of `steps`. (to have the finetuning run indefinitely, set `steps = -1`)\n",
        "\n",
        "The model checkpoints will be saved in `/checkpoint/run1` by default. The checkpoints are saved every 500 steps (can be changed) and when the cell is stopped.\n",
        "\n",
        "The training might time out after 4ish hours; make sure you end training and save the results so you don't lose them!\n",
        "\n",
        "**IMPORTANT NOTE:** If you want to rerun this cell, **restart the VM first** (Runtime -> Restart Runtime). You will need to rerun imports but not recopy files.\n",
        "\n",
        "Other optional-but-helpful parameters for `gpt2.finetune`:\n",
        "\n",
        "\n",
        "*  **`restore_from`**: Set to `fresh` to start training from the base GPT-2, or set to `latest` to restart training from an existing checkpoint.\n",
        "* **`sample_every`**: Number of steps to print example output\n",
        "* **`print_every`**: Number of steps to print training progress.\n",
        "* **`learning_rate`**:  Learning rate for the training. (default `1e-4`, can lower to `1e-5` if you have <1MB input data)\n",
        "*  **`run_name`**: subfolder within `checkpoint` to save the model. This is useful if you want to work with multiple models (will also need to specify  `run_name` when loading the model)\n",
        "* **`overwrite`**: Set to `True` if you want to continue finetuning an existing model (w/ `restore_from='latest'`) without creating duplicate copies. "
      ]
    },
    {
      "cell_type": "code",
      "metadata": {
        "id": "aeXshJM-Cuaf",
        "colab": {
          "base_uri": "https://localhost:8080/"
        },
        "outputId": "a906fda7-bbfe-47da-c703-93894556dcd7"
      },
      "source": [
        "sess = gpt2.start_tf_sess()\n",
        "\n",
        "gpt2.finetune(sess,\n",
        "              dataset=file_name,\n",
        "              model_name='124M',\n",
        "              steps=1000,\n",
        "              restore_from='fresh',\n",
        "              run_name='run1',\n",
        "              print_every=10,\n",
        "              sample_every=200,\n",
        "              save_every=500\n",
        "              )"
      ],
      "execution_count": 8,
      "outputs": [
        {
          "output_type": "stream",
          "text": [
            "WARNING:tensorflow:From /usr/local/lib/python3.7/dist-packages/gpt_2_simple/src/sample.py:17: where (from tensorflow.python.ops.array_ops) is deprecated and will be removed in a future version.\n",
            "Instructions for updating:\n",
            "Use tf.where in 2.0, which has the same broadcast rule as np.where\n",
            "Loading checkpoint models/124M/model.ckpt\n",
            "INFO:tensorflow:Restoring parameters from models/124M/model.ckpt\n"
          ],
          "name": "stdout"
        },
        {
          "output_type": "stream",
          "text": [
            "\r  0%|          | 0/1 [00:00<?, ?it/s]"
          ],
          "name": "stderr"
        },
        {
          "output_type": "stream",
          "text": [
            "Loading dataset...\n"
          ],
          "name": "stdout"
        },
        {
          "output_type": "stream",
          "text": [
            "100%|██████████| 1/1 [00:00<00:00,  3.88it/s]\n"
          ],
          "name": "stderr"
        },
        {
          "output_type": "stream",
          "text": [
            "dataset has 45140 tokens\n",
            "Training...\n",
            "[10 | 28.46] loss=2.35 avg=2.35\n",
            "[20 | 50.21] loss=2.02 avg=2.18\n",
            "[30 | 72.44] loss=1.99 avg=2.12\n",
            "[40 | 95.25] loss=1.69 avg=2.01\n",
            "[50 | 118.87] loss=1.77 avg=1.96\n",
            "[60 | 142.21] loss=1.52 avg=1.89\n",
            "[70 | 165.27] loss=1.33 avg=1.80\n",
            "[80 | 188.48] loss=1.17 avg=1.72\n",
            "[90 | 211.86] loss=0.94 avg=1.63\n",
            "[100 | 235.17] loss=0.95 avg=1.56\n",
            "[110 | 258.43] loss=0.58 avg=1.47\n",
            "[120 | 281.66] loss=0.64 avg=1.39\n",
            "[130 | 304.90] loss=0.39 avg=1.31\n",
            "[140 | 328.14] loss=0.47 avg=1.25\n",
            "[150 | 351.43] loss=0.22 avg=1.17\n",
            "[160 | 374.73] loss=0.25 avg=1.11\n",
            "[170 | 398.04] loss=0.18 avg=1.05\n",
            "[180 | 421.36] loss=0.13 avg=1.00\n",
            "[190 | 444.67] loss=0.09 avg=0.94\n",
            "[200 | 467.95] loss=0.06 avg=0.90\n",
            "======== SAMPLE 1 ========\n",
            " because it is in our blood. That's right! Ooh, right there!\n",
            "\n",
            "C: Right there!\n",
            "R: Let me see the ring!\n",
            "\n",
            "C: Let me see the ring!\n",
            "R: Oh! Thank you!  And    here.\n",
            "\n",
            "C: Correspondent Carol White took over as host of the popular program last night. She is here to stay.\n",
            "R: Hey!\n",
            "\n",
            "C: Hey!\n",
            "R: If you're gonna work late, I'll have you one.\n",
            "\n",
            "C: If you're gonna work late, I'll have you one.\n",
            "R: Thank you.\n",
            "\n",
            "C: Excuse me?\n",
            "R: It's ours.\n",
            "\n",
            "C: It's ours.\n",
            "R: And the director.\n",
            "\n",
            "C: We watch. 电無吗?\n",
            "R: Hey!\n",
            "\n",
            "C: And the director.\n",
            "R: We're just celebrating that our husbands legs gave us the best control and we could take care of ourselves.\n",
            "\n",
            "C: Not much to see there.\n",
            "R: The beach is soft and the sand is light-toned.\n",
            "\n",
            "C: The-the-salty-onry.\n",
            "R: The wifes a genius!\n",
            "\n",
            "C: She still can't get a job.\n",
            "R: Thats her way or the worst.\n",
            "\n",
            "C: Shut the book and go read.\n",
            "R: Bored? You were great! You wrote the first chapter!\n",
            "\n",
            "C: You wrote the first chapter!\n",
            "R: Bored? You were great! You wrote the first chapter!\n",
            "\n",
            "C: Yeah.\n",
            "R: Aww, and hey, me too.\n",
            "\n",
            "C: Hi.\n",
            "R: All right, I was just thinking, if were trying to be funny then maybe we should take a little tripoylation and\n",
            "\n",
            "C: Oh yeah.\n",
            "R: Ohh, and I gotta say I like San Diego.\n",
            "\n",
            "C: Ohh, and I gotta say I dont like Chip.\n",
            "R: Yeah?\n",
            "\n",
            "C: Ohh, and its nice to see the lines.\n",
            "R: Im just, Im just glad you called.\n",
            "\n",
            "C: You liked it? You really liked it?\n",
            "R: Yeah. It looked sweet and sweet: different than the baggy pants you had on duty.\n",
            "\n",
            "C: What did you just say?\n",
            "R: Youre a hero.\n",
            "\n",
            "C: Well, weve talked about that.\n",
            "R: Oh, you want us to go out and have a cup of coffee?\n",
            "\n",
            "C: No.\n",
            "R: Yes! You guys are great!\n",
            "\n",
            "C: Yeah.\n",
            "R: We could... we could have a cup of coffee sometime...\n",
            "\n",
            "C: Oh, I had to go make them.\n",
            "R: Okay, Ill look it up.\n",
            "\n",
            "C: Hey, hows Joe doing?\n",
            "R: Joe's doing great.\n",
            "\n",
            "C: Hello? Oh hi Pheebs!\n",
            "R: Hi!\n",
            "\n",
            "C: Y'know, no one's ever gonna believe that Joe is all things to all people.\n",
            "R: Well, Im just saying, you know, youre not alone in your whole being.\n",
            "\n",
            "C: Well, what do you say?\n",
            "R: Well, Ill go over there and confront you guys from out of town people first.\n",
            "\n",
            "C: Well, Id expect a lot of stuff from you.\n",
            "R: Hey Pheebs!\n",
            "\n",
            "C: Hey Pheebs!\n",
            "R: Hey!\n",
            "\n",
            "C: Oh, yeah, and maybe next time we could pull a Kyle from Jersey.\n",
            "R: Ohh, thats so sweet.\n",
            "\n",
            "C: Oh, yeah.  And thats really sweet.\n",
            "R: And remember when I uh, I stuck your toothbrush in your tooth?\n",
            "\n",
            "C: Yeah? That was fun.\n",
            "R: Yeah!\n",
            "\n",
            "C: Yeah!\n",
            "R: And I would like to thank everyone who took part in the voting, it was a really important factor in deciding which candidate would get the most people's signatures.\n",
            "\n",
            "C: Terry Norris\n",
            "\n",
            "R: Oh please! You guys sure did it!\n",
            "\n",
            "C: Ramorcha! Okay, be glad we're not staring into our future and having our\n",
            "R: Yeah!\n",
            "\n",
            "C: Yeah!\n",
            "R: And theres gonna be a new fat, baby!!\n",
            "\n",
            "C: And theres gonna be a new fat, baby!!\n",
            "R: Thats so great for you guys!\n",
            "\n",
            "C: Its not gonna\n",
            "\n",
            "[210 | 502.14] loss=0.05 avg=0.85\n",
            "[220 | 525.48] loss=0.04 avg=0.81\n",
            "[230 | 548.83] loss=0.05 avg=0.77\n",
            "[240 | 572.15] loss=0.04 avg=0.74\n",
            "[250 | 595.46] loss=0.04 avg=0.71\n",
            "[260 | 618.78] loss=0.03 avg=0.68\n",
            "[270 | 642.10] loss=0.04 avg=0.65\n",
            "[280 | 665.39] loss=0.05 avg=0.63\n",
            "[290 | 688.67] loss=0.04 avg=0.60\n",
            "[300 | 711.98] loss=0.04 avg=0.58\n",
            "[310 | 735.26] loss=0.03 avg=0.56\n",
            "[320 | 758.52] loss=0.04 avg=0.54\n",
            "[330 | 781.77] loss=0.03 avg=0.52\n",
            "[340 | 805.04] loss=0.04 avg=0.51\n",
            "[350 | 828.29] loss=0.02 avg=0.49\n",
            "[360 | 851.55] loss=0.03 avg=0.48\n",
            "[370 | 874.81] loss=0.03 avg=0.46\n",
            "[380 | 898.06] loss=0.04 avg=0.45\n",
            "[390 | 921.36] loss=0.02 avg=0.44\n",
            "[400 | 944.65] loss=0.02 avg=0.42\n",
            "======== SAMPLE 1 ========\n",
            " beyond, but its just so tough, you know, back in high school—\n",
            "\n",
            "C: I don't remember much about that day.\n",
            "R: Oh, the first song was, like, Let It Get So Much Better Youll See It Get Much Better\n",
            "\n",
            "C: I Remember You Was, was, was, was, was, was, was, was, was, was, was, was, was, was, was, was, was, was, was, was, was, was, was, was,\n",
            "\n",
            "C: It just clicked!\n",
            "R: I cant believe youre getting married!\n",
            "\n",
            "C: I mean, I dont remember much about last night, it was such a blur.\n",
            "R: Oh! I remember laughing! I laughed a lot.\n",
            "\n",
            "C: Sorry.\n",
            "R: Im so exited!\n",
            "\n",
            "C: Im so exited!\n",
            "R: Im so excited!\n",
            "\n",
            "C: Im so excited!\n",
            "R: Ive been waiting for this for months!\n",
            "\n",
            "C: Ive been waiting for this for months!\n",
            "R: Woooo hoooo!!!\n",
            "\n",
            "C: I got my hair coloured!\n",
            "R: Im a lovely person! I mean, the more you excited people you are.\n",
            "\n",
            "C: Im a lovely person! I mean, the more you excited people you are.\n",
            "R: Youre so sweet!\n",
            "\n",
            "C: Hey!\n",
            "R: Hey!\n",
            "\n",
            "C: Hows that going?\n",
            "R: So great were improving, eh!\n",
            "\n",
            "C: Oh yeah, now everybody wants to be boobies.\n",
            "R: Ohh, what a beautiful name!\n",
            "\n",
            "C: Whistle!\n",
            "R: Whoa, whoops, who Phoebe! Lets play louder!\n",
            "\n",
            "C: Why are you so quiet?\n",
            "R: Its about to get a little scary.\n",
            "\n",
            "C: Its about to get a little scary.\n",
            "R: Isnt this great?\n",
            "\n",
            "C: Hi.\n",
            "R: Hi, beautiful.\n",
            "\n",
            "C: Yeah, I dont know.\n",
            "R: Oh, honey, you dont have to look so surprised, do you?\n",
            "\n",
            "C: All right.\n",
            "R: Hi, honey! I just talked to Joanna, and she loves you. You get the picture.\n",
            "\n",
            "C: Oh, what a great opportunity to influence someone as famous and accomplished as you are.\n",
            "R: I think Im going to go out with a bunch of my besties this weekend, and if it means that much to you, Im glad you asked.\n",
            "\n",
            "C: No! No! Im going to go with someone I've known for hours!\n",
            "R: I know, theyve seen you before, and youre the friend I need.\n",
            "\n",
            "C: Hey!\n",
            "R: Hey!\n",
            "\n",
            "C: Do you guys know any cute guys?\n",
            "R: Well, of course I do! My whole department needs cute guys!\n",
            "\n",
            "C: Well, our lives are good, we just have to make another trip!\n",
            "R: Oh, exactly!\n",
            "\n",
            "C: Oh, exactly!\n",
            "R: This is so great!\n",
            "\n",
            "C: This is so great!\n",
            "R: Yeah!\n",
            "\n",
            "C: This is so cool!\n",
            "R: We can! All we have to do is say 'hi'!\n",
            "\n",
            "C: And we can make a movie!\n",
            "R: Yes! Ive got ideas!\n",
            "\n",
            "C: Oh, yeah, and\n",
            "R: Hey!\n",
            "\n",
            "C: What?!\n",
            "R: You wrote a song for us!\n",
            "\n",
            "C: Yeah, and good luck!\n",
            "R: Im quitting!! Woo-hoo!  I got another gig!\n",
            "\n",
            "C: Yeah, and\n",
            "R: Im quitting!!\n",
            "\n",
            "C: Oh, heres a good one I made-Im going to a charity picnic and\n",
            "R: Oh thanks.\n",
            "\n",
            "C: Oh.\n",
            "R: One lousy day, and I was out of the state!\n",
            "\n",
            "C: We go to a beach.\n",
            "R: Oh good, here we go.\n",
            "\n",
            "C: Well, you have to remember, we were going on a four-day trip, so I’d wasnt able to stay in Barcelona.\n",
            "R: And hey, here we go!\n",
            "\n",
            "C: Not you guys.\n",
            "R: You wanna come?\n",
            "\n",
            "C: What?\n",
            "R: Yeah!\n",
            "\n",
            "C: What?\n",
            "\n",
            "\n",
            "[410 | 977.83] loss=0.03 avg=0.41\n",
            "[420 | 1001.12] loss=0.03 avg=0.40\n",
            "[430 | 1024.40] loss=0.03 avg=0.39\n",
            "[440 | 1047.69] loss=0.03 avg=0.38\n",
            "[450 | 1070.97] loss=0.04 avg=0.37\n",
            "[460 | 1094.26] loss=0.04 avg=0.36\n",
            "[470 | 1117.57] loss=0.03 avg=0.35\n",
            "[480 | 1140.88] loss=0.03 avg=0.34\n",
            "[490 | 1164.16] loss=0.03 avg=0.34\n",
            "[500 | 1187.43] loss=0.03 avg=0.33\n",
            "Saving checkpoint/run1/model-500\n",
            "[510 | 1213.49] loss=0.03 avg=0.32\n",
            "[520 | 1236.86] loss=0.03 avg=0.31\n",
            "[530 | 1260.17] loss=0.03 avg=0.31\n",
            "[540 | 1283.45] loss=0.03 avg=0.30\n",
            "[550 | 1306.67] loss=0.03 avg=0.29\n",
            "[560 | 1329.92] loss=0.03 avg=0.29\n",
            "[570 | 1353.16] loss=0.03 avg=0.28\n",
            "[580 | 1376.43] loss=0.02 avg=0.28\n",
            "[590 | 1399.73] loss=0.04 avg=0.27\n",
            "[600 | 1423.03] loss=0.03 avg=0.27\n",
            "======== SAMPLE 1 ========\n",
            " those in the room are going through some phase right now to help speed the process along.\n",
            "R: Yeah, thats right! Im selling the tickets here!\n",
            "\n",
            "C: Hey uh, is it okay to come in?\n",
            "R: Of course! Oh Joey, this was a long walk from the flower shop and its just the perfect backdrop for a pretty face.\n",
            "\n",
            "C: Oh, I think its nice.  Oh, this is just the beginning.\n",
            "R: Ill see you hitting the gym.\n",
            "\n",
            "C: Ill see you hitting the gym.\n",
            "R: Ohh, I�going to get another pair!\n",
            "\n",
            "C: Oh, another one!\n",
            "R: Wow! Congratu!!\n",
            "\n",
            "C: You mean a backup?\n",
            "R: Yeah, yeah, thats someone's daughter-in-laws coming up.\n",
            "\n",
            "C: Her office is next door to mine.\n",
            "R: Ohh, its a beautiful spot.\n",
            "\n",
            "C: Come on, you can do it.\n",
            "R: Come on, come on!\n",
            "\n",
            "C: No problem. I'm not dying at the office.\n",
            "R: He's coming. He's coming!\n",
            "\n",
            "C: Stop saying, \"Hey! Dont look so surprised.\" Sorry.\n",
            "R: Dont look so surprised. Sorry. Hes-hes a tough cookie.\n",
            "\n",
            "C: Hey, dont look so surprised. Sorry. Hes-hes a tough cookie.\n",
            "R: Dont look so surprised. Sorry. Sorry.\n",
            "\n",
            "C: Dont look so surprised. Sorry. Sorry.\n",
            "R: Hi! Ben!\n",
            "\n",
            "C: Hi! Ben!\n",
            "R: Hey!\n",
            "\n",
            "C: Yeah, I was about to leave. Im not in town for a conference.\n",
            "R: Ohh, I heard.\n",
            "\n",
            "C: Ohh, I heard.\n",
            "R: Well, youre great!  Wow! Its like a vacation.\n",
            "\n",
            "C: Well, youre great!  Wow! Its like a vacation.\n",
            "R: Oh, great! I mean, this is such a beautiful day.\n",
            "\n",
            "C: All day!\n",
            "R: This is so great!  Why dont you just put some paper airplanes in there!\n",
            "\n",
            "C: Hey-hey-hey! Need a map?\n",
            "R: Yeah!\n",
            "\n",
            "C: I know, its awesome.\n",
            "R: Yeah, its beautiful. I saw it at the museum.\n",
            "\n",
            "C: Is it crooked?\n",
            "R: Yeah!\n",
            "\n",
            "C: Listen, we dont have to make that a guest room, but we can put a queen bed here.\n",
            "R: Ohh, listen, this is great! I love this bed!\n",
            "\n",
            "C: Ohh, listen, this is great! I love this bed!\n",
            "R: I can't believe youre gonna make it!\n",
            "\n",
            "C: I can't believe youre gonna make it!\n",
            "R: I mean, it sure is exciting!\n",
            "\n",
            "C: I mean, it sure is exciting!\n",
            "R: Thats a dream come true!\n",
            "\n",
            "C: Thats a dream come true!\n",
            "R: Thats one of the luckiest guys in the history of mankind!\n",
            "\n",
            "C: Thats one of the luckiest guys in the history of mankind!\n",
            "R: Im one happy family!\n",
            "\n",
            "C: Im one happy family!\n",
            "R: J-j-just relax, nobody yelled.\n",
            "\n",
            "C: So, is it not?\n",
            "R: Its good to be in love.\n",
            "\n",
            "C: Its good to be in love.\n",
            "R: And, I, uh, a whole lot of people around me!\n",
            "\n",
            "C: I mean, the case is rather impressive.\n",
            "R: A couple of the colleagues I trusted were murdered. One was a rather vulnerable one, and she had long been an admirer of mine. The other, she was a rather vulnerable one, and she had a long and illustrious career.\n",
            "\n",
            "C: She was never destined for the highest office in her village or the depths of her own private heart.\n",
            "R: That's right! She is the toast!\n",
            "\n",
            "C: Toast! To the Ten Commandments, to the Ten Great Gatsbys.\n",
            "R: Can you believe I've never seen anything as beautiful and important as this!\n",
            "\n",
            "C: Can you believe I've never seen anything as beautiful and important as this\n",
            "\n",
            "[610 | 1456.07] loss=0.03 avg=0.26\n",
            "[620 | 1479.35] loss=0.03 avg=0.25\n",
            "[630 | 1502.65] loss=0.02 avg=0.25\n",
            "[640 | 1525.94] loss=0.02 avg=0.24\n",
            "[650 | 1549.23] loss=0.03 avg=0.24\n",
            "[660 | 1572.52] loss=0.03 avg=0.24\n",
            "[670 | 1595.80] loss=0.03 avg=0.23\n",
            "[680 | 1619.08] loss=0.03 avg=0.23\n",
            "[690 | 1642.37] loss=0.02 avg=0.22\n",
            "[700 | 1665.64] loss=0.02 avg=0.22\n",
            "[710 | 1688.90] loss=0.03 avg=0.22\n",
            "[720 | 1712.13] loss=0.02 avg=0.21\n",
            "[730 | 1735.39] loss=0.02 avg=0.21\n",
            "[740 | 1758.63] loss=0.03 avg=0.21\n",
            "[750 | 1781.89] loss=0.03 avg=0.20\n",
            "[760 | 1805.14] loss=0.02 avg=0.20\n",
            "[770 | 1828.41] loss=0.03 avg=0.20\n",
            "[780 | 1851.68] loss=0.03 avg=0.19\n",
            "[790 | 1874.98] loss=0.03 avg=0.19\n",
            "[800 | 1898.27] loss=0.03 avg=0.19\n",
            "======== SAMPLE 1 ========\n",
            ": What?!\n",
            "R: Get in there man!  Okay, I'm hurt! I'm pretty, pretty sure I'm ready.\n",
            "\n",
            "C: Got it?\n",
            "R: Yeah!\n",
            "\n",
            "C: Yeah!\n",
            "R: Yeah, uhm, yeah, y'know, no, no, you come over, you read a play, and then you yell at me.\n",
            "\n",
            "C: Hey!\n",
            "R: Hey!\n",
            "\n",
            "C: I'm just gonna go over there and confront them about it!\n",
            "R: Okay, okay, y'know, no, I'm ok with being angry, I'm not annoying, I'm just sensing that you're more than a little taken aback.\n",
            "\n",
            "C: Yeah, okay, okay, y'know, no, no, you come over, you read a play, and then you yell at me.\n",
            "R: Hey!\n",
            "\n",
            "C: Read a play?\n",
            "R: Oh, I dont remember being very happy about that.\n",
            "\n",
            "C: Oh, I dont remember being very happy about that.\n",
            "R: Oh, I think Im having a great time!\n",
            "\n",
            "C: Oh, I think Im having a great time!\n",
            "R: Yay!!!\n",
            "\n",
            "C: Yay!!!\n",
            "R: Thats right!\n",
            "\n",
            "C: Thats right!\n",
            "R: I like it!\n",
            "\n",
            "C: I like it!\n",
            "R: I like it!\n",
            "\n",
            "C: I like it!\n",
            "R: Im so happy for you!\n",
            "\n",
            "C: He is, he is a genius!\n",
            "R: A genius!\n",
            "\n",
            "C: He is, he is a genius!\n",
            "R: Burt!\n",
            "\n",
            "C: Chicago, you wanna come?\n",
            "R: Yes!\n",
            "\n",
            "C: Yes!\n",
            "R: Great! What, you're coming!\n",
            "\n",
            "C: Great! What, you're coming!\n",
            "R: Yeah!\n",
            "\n",
            "C: Yeah!\n",
            "R: So, y'know, you know, you know, you know, I am here to entertain!\n",
            "\n",
            "C: Yeah!\n",
            "R: Thats right.\n",
            "\n",
            "C: Thats right.\n",
            "R: Its so great!\n",
            "\n",
            "C: So great!\n",
            "R: Its so cool!\n",
            "\n",
            "C: Its so cool!\n",
            "R: I can write an epic poem about this fatty!\n",
            "\n",
            "C: I can write an epic poem about this fatty!\n",
            "R: How would that go?  Well, it didn't rhyme, but I liked it.\n",
            "\n",
            "C: Dont look now, but behind us is a guy who has the potential to break our hearts and plunge us into a pit of depression.\n",
            "R: Where?  Ooh, come to Momma.\n",
            "\n",
            "C: He's coming. Be cool, be cool, be cool.\n",
            "R: We should do something. Whistle.\n",
            "\n",
            "C: No!\n",
            "R: Do it!\n",
            "\n",
            "C: No!\n",
            "R: Do it do it do it!\n",
            "\n",
            "C: Do it do it do it!\n",
            "R: Woo-woo!\n",
            "\n",
            "C: Monica, you go to the head of the class.\n",
            "R: Okay.\n",
            "\n",
            "C: Humaaan spleeeeen.\n",
            "R: Olè!\n",
            "\n",
            "C: What are you doing here!\n",
            "R: Well, you said that you had customers lined up in the street,    so I am here to entertain!\n",
            "\n",
            "C: Well, you said that you had customers lined up in the street,    so I am here to entertain!\n",
            "R: No! No! Hey-hey-hey-ho-ho, I got this one.\n",
            "\n",
            "C: No! No! Hey-hey-ho-ho, I got this one.\n",
            "R: Its such a big house! Bigger!\n",
            "\n",
            "C: I mean, this is a long walk from the flower shop.\n",
            "R: I think its a good idea.  Its nice.\n",
            "\n",
            "C: Dont look now, but behind us is a guy who has the potential to break our hearts and plunge us into a pit of depression.\n",
            "R: Hes coming. Be cool, be cool, be cool.\n",
            "\n",
            "C: We should do something about it.\n",
            "R: Do something about it!\n",
            "\n",
            "C: No!\n",
            "R: Do it do it do it!\n",
            "\n",
            "C: No!\n",
            "R: Do it do it do it!\n",
            "\n",
            "C: Do it do it do it!\n",
            "R: Woo-woo!\n",
            "\n",
            "C: Monica, you go to the head of the class.\n",
            "\n",
            "[810 | 1931.82] loss=0.02 avg=0.18\n",
            "[820 | 1955.09] loss=0.02 avg=0.18\n",
            "[830 | 1978.39] loss=0.02 avg=0.18\n",
            "[840 | 2001.67] loss=0.02 avg=0.18\n",
            "[850 | 2024.95] loss=0.03 avg=0.17\n",
            "[860 | 2048.18] loss=0.02 avg=0.17\n",
            "[870 | 2071.42] loss=0.02 avg=0.17\n",
            "[880 | 2094.67] loss=0.02 avg=0.16\n",
            "[890 | 2117.91] loss=0.02 avg=0.16\n",
            "[900 | 2141.15] loss=0.02 avg=0.16\n",
            "[910 | 2164.41] loss=0.03 avg=0.16\n",
            "[920 | 2187.65] loss=0.03 avg=0.16\n",
            "[930 | 2210.89] loss=0.03 avg=0.15\n",
            "[940 | 2234.13] loss=0.02 avg=0.15\n",
            "[950 | 2257.40] loss=0.03 avg=0.15\n",
            "[960 | 2280.68] loss=0.03 avg=0.15\n",
            "[970 | 2303.97] loss=0.02 avg=0.15\n",
            "[980 | 2327.25] loss=0.02 avg=0.14\n",
            "[990 | 2350.59] loss=0.02 avg=0.14\n",
            "[1000 | 2373.93] loss=0.03 avg=0.14\n",
            "Saving checkpoint/run1/model-1000\n",
            "WARNING:tensorflow:From /tensorflow-1.15.2/python3.7/tensorflow_core/python/training/saver.py:963: remove_checkpoint (from tensorflow.python.training.checkpoint_management) is deprecated and will be removed in a future version.\n",
            "Instructions for updating:\n",
            "Use standard file APIs to delete files with this prefix.\n"
          ],
          "name": "stdout"
        }
      ]
    },
    {
      "cell_type": "markdown",
      "metadata": {
        "id": "IXSuTNERaw6K"
      },
      "source": [
        "After the model is trained, you can copy the checkpoint folder to your own Google Drive.\n",
        "\n",
        "If you want to download it to your personal computer, it's strongly recommended you copy it there first, then download from Google Drive. The checkpoint folder is copied as a `.rar` compressed file; you can download it and uncompress it locally."
      ]
    },
    {
      "cell_type": "code",
      "metadata": {
        "id": "VHdTL8NDbAh3"
      },
      "source": [
        "gpt2.copy_checkpoint_to_gdrive(run_name='run1')"
      ],
      "execution_count": 10,
      "outputs": []
    },
    {
      "cell_type": "markdown",
      "metadata": {
        "id": "qQJgV_b4bmzd"
      },
      "source": [
        "You're done! Feel free to go to the **Generate Text From The Trained Model** section to generate text based on your retrained model."
      ]
    },
    {
      "cell_type": "markdown",
      "metadata": {
        "id": "pel-uBULXO2L"
      },
      "source": [
        "## Load a Trained Model Checkpoint\n",
        "\n",
        "Running the next cell will copy the `.rar` checkpoint file from your Google Drive into the Colaboratory VM."
      ]
    },
    {
      "cell_type": "code",
      "metadata": {
        "id": "DCcx5u7sbPTD"
      },
      "source": [
        "gpt2.copy_checkpoint_from_gdrive(run_name='run1')"
      ],
      "execution_count": 11,
      "outputs": []
    },
    {
      "cell_type": "markdown",
      "metadata": {
        "id": "RTa6zf3e_9gV"
      },
      "source": [
        "The next cell will allow you to load the retrained model checkpoint + metadata necessary to generate text.\n",
        "\n",
        "**IMPORTANT NOTE:** If you want to rerun this cell, **restart the VM first** (Runtime -> Restart Runtime). You will need to rerun imports but not recopy files."
      ]
    },
    {
      "cell_type": "code",
      "metadata": {
        "id": "-fxL77nvAMAX",
        "colab": {
          "base_uri": "https://localhost:8080/"
        },
        "outputId": "9e5cd633-bc19-446b-9251-f4a649d9fc15"
      },
      "source": [
        "sess = gpt2.start_tf_sess()\n",
        "gpt2.load_gpt2(sess, run_name='run1')"
      ],
      "execution_count": 12,
      "outputs": [
        {
          "output_type": "stream",
          "text": [
            "Loading checkpoint checkpoint/run1/model-1000\n",
            "INFO:tensorflow:Restoring parameters from checkpoint/run1/model-1000\n"
          ],
          "name": "stdout"
        }
      ]
    },
    {
      "cell_type": "markdown",
      "metadata": {
        "id": "ClJwpF_ACONp"
      },
      "source": [
        "## Generate Text From The Trained Model\n",
        "\n",
        "After you've trained the model or loaded a retrained model from checkpoint, you can now generate text. `generate` generates a single text from the loaded model."
      ]
    },
    {
      "cell_type": "code",
      "metadata": {
        "id": "4RNY6RBI9LmL",
        "colab": {
          "base_uri": "https://localhost:8080/"
        },
        "outputId": "1b8a3ec8-108f-4b74-976b-f8b91b9aa695"
      },
      "source": [
        "gpt2.generate(sess, run_name='run1')"
      ],
      "execution_count": 13,
      "outputs": [
        {
          "output_type": "stream",
          "text": [
            "R: Oh, we were all\n",
            "\n",
            "C: Oh my God!\n",
            "R: This is so great! Now we can enter into doubles tournaments!\n",
            "\n",
            "C: No, I think you misunderstood what was said.\n",
            "R: You are so adorable!\n",
            "\n",
            "C: You are so adorable!\n",
            "R: That! Lets talk about that.\n",
            "\n",
            "C: I dont care if you    are my friend.\n",
            "R: Hey!\n",
            "\n",
            "C: Hey!\n",
            "R: Hey!\n",
            "\n",
            "C: Hey!\n",
            "R: Hey!\n",
            "\n",
            "C: Ohh, okay.\n",
            "R: Oh my God, what a great surprise! This is such a beautiful house.\n",
            "\n",
            "C: Hey, ready for dinner?\n",
            "R: Ooh, absolutely!\n",
            "\n",
            "C: Ooh, absolutely!\n",
            "R: Great! How about you wanted to go the Italian place down on Bleaker Street right?\n",
            "\n",
            "C: I bought this today, 'cause I was thirsty for milk, y'know.\n",
            "R: Okay, let's go!\n",
            "\n",
            "C: No! No! Phoebe, come on! I dont want to switch! Please come on! I can throw wet paper towels here!\n",
            "R: No but at Monicas you can eat cookies over the sink!\n",
            "\n",
            "C: Nimitz, and sold over 2,000 boxes.\n",
            "R: Hey! Howd the interview go?\n",
            "\n",
            "C: A piece of something: boxer shorts, greeting cards, and what looks like a half-charred pictureWow, that guy's hairier than the Chief!\n",
            "R: You know, it's a really funny story how this happened.\n",
            "\n",
            "C: No, you were right. I don't have a plan.\n",
            "R: Thank God. Food.\n",
            "\n",
            "C: Big Bird's friend.\n",
            "R: I see pizza!\n",
            "\n",
            "C: I see pizza!\n",
            "R: Oh, I wanna see! Lemme see! Lemme see!\n",
            "\n",
            "C: What?!\n",
            "R: I mean naked game. Strip poker, we should totally play strip poker.\n",
            "\n",
            "C: Allll done!\n",
            "R: Aww, thank you.\n",
            "\n",
            "C: Go little boy, go!\n",
            "R: Oh cool! You made him cry!\n",
            "\n",
            "C: Hello, Mr. Bing.\n",
            "R: Loved your Stevie Wonder last night.\n",
            "\n",
            "C: Y'know I dont, I dont need them, huh, Ive got you guys now as friends, you and Susan.\n",
            "R: Ah, Susan will be so pleased.\n",
            "\n",
            "C: No. But its okay, Ill just put out pickles or something.\n",
            "R: Ross, thank God.\n",
            "\n",
            "C: Okay, I admit it!\n",
            "R: I love this coat!\n",
            "\n",
            "C: I love this coat!\n",
            "R: Okay, Iit's the best thing I've ever had wrapped around me, including Phil Huntley!\n",
            "\n",
            "C: Remember Phil Huntley?\n",
            "R: He was fine!\n",
            "\n",
            "C: Id better get back to my desk.\n",
            "R: Okay, you hard worker! Ill remember to put that in your evaluation.\n",
            "\n",
            "C: Hi!\n",
            "R: Hi!\n",
            "\n",
            "C: Thanks for comin back, umm, okay there have been a lot of people interested in the room, but I have narrowed it down and\n",
            "R: Great!\n",
            "\n",
            "C: Fight.\n",
            "R: Very good! Okay. G.\n",
            "\n",
            "C: String?\n",
            "R: Excellent! Okay umm, doggy.\n",
            "\n",
            "C: So why dont you just let me worry about making the trifle and you just worry about eating it, alright?\n",
            "R: Oh I am!\n",
            "\n",
            "C: You are so cute! How did you get to be so cute?\n",
            "R: Well, my Grandfather was Swedish and my Grandmother was actually a tiny little bunny.\n",
            "\n",
            "C: Well, my Grandfather was Swedish and my Grandmother was actually a tiny little bunny.\n",
            "R: Okay, now you're even cuter!!\n",
            "\n",
            "C: What are you talking about?\n",
            "R: I'm telling you I think Phoebe thinks I'm foxy.\n",
            "\n",
            "C: And he was Theta Beta Pi at Syracuse.\n",
            "R: Oh. Oh, thats great!\n",
            "\n",
            "C: Well yknow, we would umm, repeat everything the other said, or uh, wed jump out of closets to scare each other, or switch the sugar for the salt so theyd put salt on their cereal.\n",
            "R: Thats a good one.\n",
            "\n",
            "C: Yeah?\n"
          ],
          "name": "stdout"
        }
      ]
    },
    {
      "cell_type": "markdown",
      "metadata": {
        "id": "oF4-PqF0Fl7R"
      },
      "source": [
        "If you're creating an API based on your model and need to pass the generated text elsewhere, you can do `text = gpt2.generate(sess, return_as_list=True)[0]`\n",
        "\n",
        "You can also pass in a `prefix` to the generate function to force the text to start with a given character sequence and generate text from there (good if you add an indicator when the text starts).\n",
        "\n",
        "You can also generate multiple texts at a time by specifing `nsamples`. Unique to GPT-2, you can pass a `batch_size` to generate multiple samples in parallel, giving a massive speedup (in Colaboratory, set a maximum of 20 for `batch_size`).\n",
        "\n",
        "Other optional-but-helpful parameters for `gpt2.generate` and friends:\n",
        "\n",
        "*  **`length`**: Number of tokens to generate (default 1023, the maximum)\n",
        "* **`temperature`**: The higher the temperature, the crazier the text (default 0.7, recommended to keep between 0.7 and 1.0)\n",
        "* **`top_k`**: Limits the generated guesses to the top *k* guesses (default 0 which disables the behavior; if the generated output is super crazy, you may want to set `top_k=40`)\n",
        "* **`top_p`**: Nucleus sampling: limits the generated guesses to a cumulative probability. (gets good results on a dataset with `top_p=0.9`)\n",
        "* **`truncate`**: Truncates the input text until a given sequence, excluding that sequence (e.g. if `truncate='<|endoftext|>'`, the returned text will include everything before the first `<|endoftext|>`). It may be useful to combine this with a smaller `length` if the input texts are short.\n",
        "*  **`include_prefix`**: If using `truncate` and `include_prefix=False`, the specified `prefix` will not be included in the returned text."
      ]
    },
    {
      "cell_type": "code",
      "metadata": {
        "id": "8DKMc0fiej4N",
        "colab": {
          "base_uri": "https://localhost:8080/"
        },
        "outputId": "774a93d5-5a53-4d23-a014-0a9bd9feae0f"
      },
      "source": [
        "gpt2.generate(sess,\n",
        "              length=250,\n",
        "              temperature=0.7,\n",
        "              prefix=\"LORD\",\n",
        "              nsamples=5,\n",
        "              batch_size=5\n",
        "              )"
      ],
      "execution_count": 15,
      "outputs": [
        {
          "output_type": "stream",
          "text": [
            "LORD!!!\n",
            "\n",
            "C: Ill always remember that summer, because its when I got all of these freckles.\n",
            "R: Uh-huh! Uh-huh! And-and-and Ill always remember that summer because thats when I realized that we are related.\n",
            "\n",
            "C: Okay, tell me your happy place.\n",
            "R: Richard's living room, drinking wine.\n",
            "\n",
            "C: Do you think breaking up with him was a huge mistake?\n",
            "R: All right, there are no questions in the happy place. Okay, just, the warm breeze, and the moonlight flowing through the trees....\n",
            "\n",
            "C: Okay.\n",
            "R: Just-just, you know, the-the lovely waterfalls, and the, the trickling fountains.\n",
            "\n",
            "C: I dont wanna speak, I dont wanna think.\n",
            "R: I just want you to take me and kiss me and make love to me right here, right now.\n",
            "\n",
            "C: I just want you to take me and kiss me and make love to me right here, right now.\n",
            "R: Rachel! Rachel!\n",
            "\n",
            "\n",
            "====================\n",
            "LORD!\n",
            "\n",
            "C: Oh, Joey! Sorry!\n",
            "R: They made you head of the department!\n",
            "\n",
            "C: Uh, Pauls Café. They got great food and its really romantic.\n",
            "R: Ooh, great! Thanks!\n",
            "\n",
            "C: G.I. Joe\n",
            "R: Look Ben, I cant believe youre gonna ask Monica to marry you!\n",
            "\n",
            "C: Look Ben, I cant believe youre gonna ask Monica to marry you!\n",
            "R: Oh, Bens gonna love you!\n",
            "\n",
            "C: Oh, Bens gonna love you!\n",
            "R: Ben! Ben! Ben!\n",
            "\n",
            "C: Ben! Ben! Ben!\n",
            "R: Alex! Alex!\n",
            "\n",
            "C: Alex! Alex!\n",
            "R: Oh, I knew Ben was me! I knew Ben was me!\n",
            "\n",
            "C: Oh, I knew Ben was me! I knew Ben was me!\n",
            "R: Hey!\n",
            "\n",
            "C: Hey!\n",
            "R: Hey!\n",
            "\n",
            "C: Hey!\n",
            "R: Hey!\n",
            "\n",
            "C: I just say someone on thethat looks just\n",
            "====================\n",
            "LORD YEAH!\n",
            "\n",
            "C: We dont have to come up with this now.\n",
            "R: Oh good.\n",
            "\n",
            "C: Yeah, and I am okay with being a pushover.\n",
            "R: Thats great. Good for you guys.\n",
            "\n",
            "C: This was fun! But I've got an invasive vaginal exam to get to!\n",
            "R: I'd love to stay, but I have eh...  got     a hot date...\n",
            "\n",
            "C: Thats right Wesley! I just stopped by to say that, youre not a real doctor! And that womans brain, is fine!\n",
            "R: Oh! Thank God!\n",
            "\n",
            "C: Oh! Thank God!\n",
            "R: Hope! Hope!\n",
            "\n",
            "C: Hope! Hope!\n",
            "R: Drake!\n",
            "\n",
            "C: Drake!\n",
            "R: Youre not dying Hope, youre gonna live a long, healthy life. With me.\n",
            "\n",
            "C: Youre not dying Hope, youre gonna live a long, healthy life. With me.\n",
            "R: Oh Drake.\n",
            "\n",
            "C: Oh Drake.\n",
            "\n",
            "====================\n",
            "LORD!!!!!!\n",
            "\n",
            "C: Just smile and dont talk to\n",
            "R: Speech! Speech! Lets hear from the birthday girl! Huh?\n",
            "\n",
            "C: Pheebs!!\n",
            "R: Dont you see? Everyones looking at me! The plans working! I didnt even have to take off my top yet!\n",
            "\n",
            "C: Dont you see? Everyones looking at me! The plans working! I didnt even have to take off my top yet!\n",
            "R: Speech! Come on Monica!\n",
            "\n",
            "C: Speech! Come on Monica!\n",
            "R: Come on!\n",
            "\n",
            "C: Come on!\n",
            "R: Come on! Speech!\n",
            "\n",
            "C: Hey Chandler, you cant keep your hands off her for one second!\n",
            "R: Oh-ho, I think its nice.\n",
            "\n",
            "C: Well you have to because maybe its stupid.\n",
            "R: Well its just while Monica and I were dancing to them it wasthe first time I knew thatyou were the woman I wanted to dance\n",
            "====================\n",
            "LORD! ILL JOIN!!\n",
            "\n",
            "C: Then-then theres you.\n",
            "R: He was unbelievable.\n",
            "\n",
            "C: He was unbelievable.\n",
            "R: Oh, and he was also cool enough to meet Monica.\n",
            "\n",
            "C: Oh, and he was also cool enough to meet Monica.\n",
            "R: Oh, and he was also cool enough to meet the King of the Square!\n",
            "\n",
            "C: Ohh, but not before he told me about his crush on Joey.\n",
            "R: That's so great! 'Cause then-then you have to blame me!\n",
            "\n",
            "C: You have to blame me?\n",
            "R: Im not on the hook, okay? I can cure you of your lycopersse 2a!\n",
            "\n",
            "C: Im not on the hook, okay? I can cure you of your lycopersse 2a!\n",
            "R: I brought a bunch of stuff for you tonight, so check it out. Ha-ha.\n",
            "\n",
            "C: Im not on the hook, okay? I can cure you of your lycopersse 2a!\n",
            "R: You cant  know\n",
            "====================\n"
          ],
          "name": "stdout"
        }
      ]
    },
    {
      "cell_type": "markdown",
      "metadata": {
        "id": "zjjEN2Tafhl2"
      },
      "source": [
        "For bulk generation, you can generate a large amount of text to a file and sort out the samples locally on your computer. The next cell will generate a generated text file with a unique timestamp.\n",
        "\n",
        "You can rerun the cells as many times as you want for even more generated texts!"
      ]
    },
    {
      "cell_type": "code",
      "metadata": {
        "id": "Fa6p6arifSL0"
      },
      "source": [
        "gen_file = 'gpt2_gentext_{:%Y%m%d_%H%M%S}.txt'.format(datetime.utcnow())\n",
        "\n",
        "gpt2.generate_to_file(sess,\n",
        "                      destination_path=gen_file,\n",
        "                      length=500,\n",
        "                      temperature=0.7,\n",
        "                      nsamples=100,\n",
        "                      batch_size=20\n",
        "                      )"
      ],
      "execution_count": null,
      "outputs": []
    },
    {
      "cell_type": "code",
      "metadata": {
        "id": "0-LRex8lfv1g"
      },
      "source": [
        "# may have to run twice to get file to download\n",
        "files.download(gen_file)"
      ],
      "execution_count": null,
      "outputs": []
    },
    {
      "cell_type": "markdown",
      "metadata": {
        "id": "QQAN3M6RT7Kj"
      },
      "source": [
        "## Generate Text From The Pretrained Model\n",
        "\n",
        "If you want to generate text from the pretrained model, not a finetuned model, pass `model_name` to `gpt2.load_gpt2()` and `gpt2.generate()`.\n",
        "\n",
        "This is currently the only way to generate text from the 774M or 1558M models with this notebook."
      ]
    },
    {
      "cell_type": "code",
      "metadata": {
        "id": "hsUd_jHgUZnD",
        "colab": {
          "base_uri": "https://localhost:8080/",
          "height": 158
        },
        "outputId": "4e0c8a3f-3527-41c4-e3fe-3357f3f8f6c2"
      },
      "source": [
        "model_name = \"774M\"\n",
        "\n",
        "gpt2.download_gpt2(model_name=model_name)"
      ],
      "execution_count": null,
      "outputs": [
        {
          "output_type": "stream",
          "text": [
            "Fetching checkpoint: 1.05Mit [00:00, 354Mit/s]                                                      \n",
            "Fetching encoder.json: 1.05Mit [00:00, 131Mit/s]                                                    \n",
            "Fetching hparams.json: 1.05Mit [00:00, 279Mit/s]                                                    \n",
            "Fetching model.ckpt.data-00000-of-00001: 3.10Git [00:23, 131Mit/s]                                  \n",
            "Fetching model.ckpt.index: 1.05Mit [00:00, 380Mit/s]                                                \n",
            "Fetching model.ckpt.meta: 2.10Mit [00:00, 226Mit/s]                                                 \n",
            "Fetching vocab.bpe: 1.05Mit [00:00, 199Mit/s]                                                       \n"
          ],
          "name": "stderr"
        }
      ]
    },
    {
      "cell_type": "code",
      "metadata": {
        "id": "BAe4NpKNUj2C",
        "colab": {
          "base_uri": "https://localhost:8080/",
          "height": 124
        },
        "outputId": "b09bfe1d-2ff8-4b8a-fffb-273d28d5d4ae"
      },
      "source": [
        "sess = gpt2.start_tf_sess()\n",
        "\n",
        "gpt2.load_gpt2(sess, model_name=model_name)"
      ],
      "execution_count": null,
      "outputs": [
        {
          "output_type": "stream",
          "text": [
            "WARNING: Logging before flag parsing goes to stderr.\n",
            "W0828 18:37:58.571830 139905369159552 deprecation.py:323] From /usr/local/lib/python3.6/dist-packages/tensorflow/python/training/saver.py:1276: checkpoint_exists (from tensorflow.python.training.checkpoint_management) is deprecated and will be removed in a future version.\n",
            "Instructions for updating:\n",
            "Use standard file APIs to check for files with this prefix.\n"
          ],
          "name": "stderr"
        },
        {
          "output_type": "stream",
          "text": [
            "Loading pretrained model models/774M/model.ckpt\n"
          ],
          "name": "stdout"
        }
      ]
    },
    {
      "cell_type": "code",
      "metadata": {
        "id": "-xInIZKaU104",
        "colab": {
          "base_uri": "https://localhost:8080/",
          "height": 797
        },
        "outputId": "56348e28-7d08-45e3-c859-f26c0efd066d"
      },
      "source": [
        "gpt2.generate(sess,\n",
        "              model_name=model_name,\n",
        "              prefix=\"The secret of life is\",\n",
        "              length=100,\n",
        "              temperature=0.7,\n",
        "              top_p=0.9,\n",
        "              nsamples=5,\n",
        "              batch_size=5\n",
        "              )"
      ],
      "execution_count": null,
      "outputs": [
        {
          "output_type": "stream",
          "text": [
            "The secret of life is that it's really easy to make it complicated,\" said Bill Nye, the host of the popular science show \"Bill Nye the Science Guy.\" \"And this is one of the reasons why we all need to be smarter about science, because we can't keep up with the amazing things that are going on all the time.\"\n",
            "\n",
            "While Nye is correct that \"everything that's going on all the time\" is making the world a better place, he misses the point. This is not\n",
            "====================\n",
            "The secret of life is in the rhythm of the universe. It's not a mystery. It's not a mystery to me. It's the nature of the universe. It's the beauty of the universe. It's the way the universe works. It's the way the universe is. It's the way the universe is going to work. It's the way the universe is. It's the way the universe is. It's the way the universe is. It's the way the universe is. It's the way\n",
            "====================\n",
            "The secret of life is in the universe.\n",
            "\n",
            "\n",
            "-\n",
            "\n",
            "The Red Devil\n",
            "\n",
            "It's the end of the world as we know it, and the only thing that can save us is a band of super-powered individuals known as the Red Devil.\n",
            "\n",
            "\n",
            "The Red Devil is a group of super-powered individuals who are seeking the secret of life and the only way they know how to do it is by taking on the roles of a variety of different super-powered individuals, each of which has their own\n",
            "====================\n",
            "The secret of life is in the mixing of the elements, and it is the mixing of the elements that makes life possible.\"\n",
            "\n",
            "But in the world of food science, the idea of a \"complex\" or \"complexity\" is almost entirely imaginary.\n",
            "\n",
            "As a scientist, I'm fascinated by the question of how life first began.\n",
            "\n",
            "It's the question that drives my work and the work of the scientists who work on it.\n",
            "\n",
            "My current research is exploring how microbes work in the first moments\n",
            "====================\n",
            "The secret of life is the journey of life, the search for the truth.\n",
            "\n",
            "4.4.2. The last thing you know\n",
            "\n",
            "There is nothing more important than the last thing you know.\n",
            "\n",
            "4.4.3. The little things that make all the difference\n",
            "\n",
            "The little things that make all the difference.\n",
            "\n",
            "4.4.4. The truth is the best teacher\n",
            "\n",
            "The truth is the best teacher.\n",
            "\n",
            "4.4.5. The truth is what\n",
            "====================\n"
          ],
          "name": "stdout"
        }
      ]
    },
    {
      "cell_type": "markdown",
      "metadata": {
        "id": "ig-KVgkCDCKD"
      },
      "source": [
        "# Etcetera\n",
        "\n",
        "If the notebook has errors (e.g. GPU Sync Fail), force-kill the Colaboratory virtual machine and restart it with the command below:"
      ]
    },
    {
      "cell_type": "code",
      "metadata": {
        "id": "rIHiVP53FnsX"
      },
      "source": [
        "!kill -9 -1"
      ],
      "execution_count": null,
      "outputs": []
    },
    {
      "cell_type": "markdown",
      "metadata": {
        "id": "wmTXWNUygS5E"
      },
      "source": [
        "# LICENSE\n",
        "\n",
        "MIT License\n",
        "\n",
        "Copyright (c) 2019 Max Woolf\n",
        "\n",
        "Permission is hereby granted, free of charge, to any person obtaining a copy\n",
        "of this software and associated documentation files (the \"Software\"), to deal\n",
        "in the Software without restriction, including without limitation the rights\n",
        "to use, copy, modify, merge, publish, distribute, sublicense, and/or sell\n",
        "copies of the Software, and to permit persons to whom the Software is\n",
        "furnished to do so, subject to the following conditions:\n",
        "\n",
        "The above copyright notice and this permission notice shall be included in all\n",
        "copies or substantial portions of the Software.\n",
        "\n",
        "THE SOFTWARE IS PROVIDED \"AS IS\", WITHOUT WARRANTY OF ANY KIND, EXPRESS OR\n",
        "IMPLIED, INCLUDING BUT NOT LIMITED TO THE WARRANTIES OF MERCHANTABILITY,\n",
        "FITNESS FOR A PARTICULAR PURPOSE AND NONINFRINGEMENT. IN NO EVENT SHALL THE\n",
        "AUTHORS OR COPYRIGHT HOLDERS BE LIABLE FOR ANY CLAIM, DAMAGES OR OTHER\n",
        "LIABILITY, WHETHER IN AN ACTION OF CONTRACT, TORT OR OTHERWISE, ARISING FROM,\n",
        "OUT OF OR IN CONNECTION WITH THE SOFTWARE OR THE USE OR OTHER DEALINGS IN THE\n",
        "SOFTWARE."
      ]
    }
  ]
}